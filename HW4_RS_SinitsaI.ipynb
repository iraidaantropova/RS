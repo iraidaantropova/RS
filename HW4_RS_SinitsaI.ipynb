{
  "nbformat": 4,
  "nbformat_minor": 0,
  "metadata": {
    "colab": {
      "provenance": [],
      "authorship_tag": "ABX9TyORJl8TgOWrEHOTg1FKd8US",
      "include_colab_link": true
    },
    "kernelspec": {
      "name": "python3",
      "display_name": "Python 3"
    },
    "language_info": {
      "name": "python"
    }
  },
  "cells": [
    {
      "cell_type": "markdown",
      "metadata": {
        "id": "view-in-github",
        "colab_type": "text"
      },
      "source": [
        "<a href=\"https://colab.research.google.com/github/iraidaantropova/RS/blob/main/HW4_RS_SinitsaI.ipynb\" target=\"_parent\"><img src=\"https://colab.research.google.com/assets/colab-badge.svg\" alt=\"Open In Colab\"/></a>"
      ]
    },
    {
      "cell_type": "markdown",
      "source": [
        "Урок 4. Рекомендательные системы на основе контента"
      ],
      "metadata": {
        "id": "c2N-gWAQNlXu"
      }
    },
    {
      "cell_type": "markdown",
      "source": [
        "\n",
        "1 Изучите структуру модуля src\n",
        "\n",
        "2 Перенесите функции  prefilter_items и postfilter_items из вебинара в модуль src.utils.py\n",
        "\n",
        "3 Реализуйте функции get_similar_items_recommendation, get_similar_users_recommendation (они разбирались на вебинаре) и переместите в\n",
        "src.recommenders.py\n",
        "\n",
        "4 Проверьте, что все модули корректно импортируются\n",
        "\n",
        "5 Если вы еще не прочитали статью о рекомендательных системах и поиске в hh.ru, то обязательно прочитайте"
      ],
      "metadata": {
        "id": "q-6oCTQRMukV"
      }
    },
    {
      "cell_type": "code",
      "source": [
        "import pandas as pd\n",
        "import numpy as np"
      ],
      "metadata": {
        "id": "zIPrXp0dN7sp"
      },
      "execution_count": 1,
      "outputs": []
    },
    {
      "cell_type": "code",
      "source": [
        "def hit_rate(recommended_list, bought_list):\n",
        "    bought_list = np.array(bought_list)\n",
        "    recommended_list = np.array(recommended_list)\n",
        "    flags = np.isin(bought_list, recommended_list)\n",
        "    return (flags.sum() > 0) * 1"
      ],
      "metadata": {
        "id": "dnTbhzDAOyPo"
      },
      "execution_count": 2,
      "outputs": []
    },
    {
      "cell_type": "code",
      "source": [
        "def hit_rate_at_k(recommended_list, bought_list, k=5):\n",
        "    return hit_rate(recommended_list[:k], bought_list)\n",
        "\n"
      ],
      "metadata": {
        "id": "5Jz8m0bxPDaU"
      },
      "execution_count": 3,
      "outputs": []
    },
    {
      "cell_type": "code",
      "source": [
        "def precision(recommended_list, bought_list):\n",
        "    bought_list = np.array(bought_list)\n",
        "    recommended_list = np.array(recommended_list)\n",
        "    flags = np.isin(bought_list, recommended_list)\n",
        "    return flags.sum() / len(recommended_list)"
      ],
      "metadata": {
        "id": "ZptO1-RnPIuX"
      },
      "execution_count": 4,
      "outputs": []
    },
    {
      "cell_type": "code",
      "source": [
        "def precision_at_k(recommended_list, bought_list, k=5):\n",
        "    return precision(recommended_list[:k], bought_list)"
      ],
      "metadata": {
        "id": "WHAJpcbwPNhQ"
      },
      "execution_count": 5,
      "outputs": []
    },
    {
      "cell_type": "code",
      "source": [
        "def money_precision_at_k(recommended_list, bought_list, prices_recommended, k=5):\n",
        "    recommended_list = np.array(recommended_list)[:k]\n",
        "    prices_recommended = np.array(prices_recommended)[:k]\n",
        "    flags = np.isin(recommended_list, bought_list)\n",
        "    return np.dot(flags, prices_recommended).sum() / prices_recommended.sum()"
      ],
      "metadata": {
        "id": "3_X12Bf0PSau"
      },
      "execution_count": 6,
      "outputs": []
    },
    {
      "cell_type": "code",
      "source": [
        "def recall(recommended_list, bought_list):\n",
        "    bought_list = np.array(bought_list)\n",
        "    recommended_list = np.array(recommended_list)\n",
        "    flags = np.isin(bought_list, recommended_list)\n",
        "    return flags.sum() / len(bought_list)"
      ],
      "metadata": {
        "id": "cOCXxJwePW9U"
      },
      "execution_count": 7,
      "outputs": []
    },
    {
      "cell_type": "code",
      "source": [
        "def recall_at_k(recommended_list, bought_list, k=5):\n",
        "    return recall(recommended_list[:k], bought_list)"
      ],
      "metadata": {
        "id": "R95SXYkGPaLK"
      },
      "execution_count": 8,
      "outputs": []
    },
    {
      "cell_type": "code",
      "source": [
        "def money_recall_at_k(recommended_list, bought_list, prices_recommended, prices_bought, k=5):\n",
        "    bought_list = np.array(bought_list)\n",
        "    recommended_list = np.array(recommended_list)[:k]\n",
        "    prices_recommended = np.array(prices_recommended)[:k]\n",
        "    prices_bought = np.array(prices_bought)\n",
        "    flags = np.isin(recommended_list, bought_list)\n",
        "    return np.dot(flags, prices_recommended).sum() / prices_bought.sum()\n"
      ],
      "metadata": {
        "id": "XDc5X8TlPeHM"
      },
      "execution_count": 9,
      "outputs": []
    },
    {
      "cell_type": "code",
      "source": [
        "def ap_k(recommended_list, bought_list, k=5):\n",
        "    bought_list = np.array(bought_list)\n",
        "    recommended_list = np.array(recommended_list)\n",
        "\n",
        "    relevant_indexes = np.nonzero(np.isin(recommended_list, bought_list))[0]\n",
        "    if len(relevant_indexes) == 0:\n",
        "        return 0\n",
        "    amount_relevant = len(relevant_indexes)\n",
        "\n",
        "    relevant_indexes = relevant_indexes[relevant_indexes <= k]\n",
        "\n",
        "    sum_ = sum(\n",
        "        [precision_at_k(recommended_list, bought_list, k=index_relevant + 1) for index_relevant in relevant_indexes])\n",
        "    return sum_ / amount_relevant"
      ],
      "metadata": {
        "id": "XAcs99FPPhXt"
      },
      "execution_count": 10,
      "outputs": []
    },
    {
      "cell_type": "code",
      "source": [
        "import os\n",
        "import inspect\n",
        "import shutil"
      ],
      "metadata": {
        "id": "dmCEfo4NPrzV"
      },
      "execution_count": 11,
      "outputs": []
    },
    {
      "cell_type": "code",
      "source": [
        "# Создаю папку src\n",
        "src_dir = 'src'\n",
        "os.makedirs(src_dir, exist_ok=True)\n",
        "\n",
        "#функции для переноса\n",
        "functions_to_move = [\n",
        "    hit_rate,\n",
        "    hit_rate_at_k,\n",
        "    precision,\n",
        "    precision_at_k,\n",
        "    money_precision_at_k,\n",
        "    recall,\n",
        "    recall_at_k,\n",
        "    money_recall_at_k,\n",
        "    ap_k\n",
        "]"
      ],
      "metadata": {
        "id": "a0n0slSUPvX8"
      },
      "execution_count": 13,
      "outputs": []
    },
    {
      "cell_type": "code",
      "source": [
        "# Перенос функций в src.metrics.py\n",
        "with open(os.path.join(src_dir, 'metrics.py'), 'a', encoding='utf-8') as f:\n",
        "    for function in functions_to_move:\n",
        "        function_source = inspect.getsource(function)\n",
        "        f.write(function_source)\n",
        "        f.write('\\n')"
      ],
      "metadata": {
        "id": "_NG-ok7xP9_F"
      },
      "execution_count": 14,
      "outputs": []
    },
    {
      "cell_type": "code",
      "source": [
        "def prefilter_items(data, take_n_popular=5000, item_features=None):\n",
        "    # Уберу не интересные для рекоммендаций категории (department)\n",
        "    if item_features is not None:\n",
        "        department_size = pd.DataFrame(item_features. \\\n",
        "                                       groupby('department')['item_id'].nunique(). \\\n",
        "                                       sort_values(ascending=False)).reset_index()\n",
        "\n",
        "        department_size.columns = ['department', 'n_items']\n",
        "        rare_departments = department_size[department_size['n_items'] < 150].department.tolist()\n",
        "        items_in_rare_departments = item_features[\n",
        "            item_features['department'].isin(rare_departments)].item_id.unique().tolist()\n",
        "\n",
        "        data = data[~data['item_id'].isin(items_in_rare_departments)]\n",
        "\n",
        "    # Уберу самые дешевые товары (на них не заработаем). 1 покупка из рассылок стоит 60 руб.\n",
        "    data['price'] = data['sales_value'] / (np.maximum(data['quantity'], 1))\n",
        "    data = data[data['price'] > 2]\n",
        "\n",
        "    # Уберу самые дорогие товарыs\n",
        "    data = data[data['price'] < 50]\n",
        "\n",
        "    # Возьму топ по популярности\n",
        "    popularity = data.groupby('item_id')['quantity'].sum().reset_index()\n",
        "    popularity.rename(columns={'quantity': 'n_sold'}, inplace=True)\n",
        "\n",
        "    top = popularity.sort_values('n_sold', ascending=False).head(take_n_popular).item_id.tolist()\n",
        "\n",
        "    # Заведу фиктивный item_id (если юзер покупал товары из топ-5000, то он \"купил\" такой товар)\n",
        "    data.loc[~data['item_id'].isin(top), 'item_id'] = 999999\n",
        "\n",
        "\n",
        "    return data\n",
        "\n",
        "def postfilter_items(user_id, recommednations):\n",
        "    pass"
      ],
      "metadata": {
        "id": "yx_iq1h7QvC5"
      },
      "execution_count": 16,
      "outputs": []
    },
    {
      "cell_type": "code",
      "source": [
        "# Переношу функцию prefilter_items в модуль src.utils.py\n",
        "\n",
        "functions_to_move = [\n",
        "    prefilter_items\n",
        "]\n",
        "\n",
        "# Перенос функций в src.utils.py\n",
        "with open(os.path.join(src_dir, 'utils.py'), 'a', encoding='utf-8') as f:\n",
        "    for function in functions_to_move:\n",
        "        function_source = inspect.getsource(function)\n",
        "        f.write(function_source)\n",
        "        f.write('\\n')"
      ],
      "metadata": {
        "id": "7o0ycBleRNkw"
      },
      "execution_count": 23,
      "outputs": []
    }
  ]
}