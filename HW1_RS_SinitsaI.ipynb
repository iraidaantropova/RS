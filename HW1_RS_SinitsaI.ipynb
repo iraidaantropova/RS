{
  "nbformat": 4,
  "nbformat_minor": 0,
  "metadata": {
    "colab": {
      "provenance": [],
      "authorship_tag": "ABX9TyMkL2XLkONDX+TW5TIZ9Ew2",
      "include_colab_link": true
    },
    "kernelspec": {
      "name": "python3",
      "display_name": "Python 3"
    },
    "language_info": {
      "name": "python"
    }
  },
  "cells": [
    {
      "cell_type": "markdown",
      "metadata": {
        "id": "view-in-github",
        "colab_type": "text"
      },
      "source": [
        "<a href=\"https://colab.research.google.com/github/iraidaantropova/RS/blob/main/HW1_RS_SinitsaI.ipynb\" target=\"_parent\"><img src=\"https://colab.research.google.com/assets/colab-badge.svg\" alt=\"Open In Colab\"/></a>"
      ]
    },
    {
      "cell_type": "markdown",
      "source": [
        "Урок 1. Введение, примеры задач, бизнес- и ML-метрики\n",
        "\n",
        "\n",
        "Домашнее задание №1\n",
        "На семинаре мы проходили метрики, необходимо реализовать некоторые из них"
      ],
      "metadata": {
        "id": "Ak66TOXtk1pQ"
      }
    },
    {
      "cell_type": "markdown",
      "metadata": {
        "id": "38a80a25-4ea6-49c9-a0f4-c7fc2a80dcc1"
      },
      "source": [
        "## Задание 1. Реализовать метрики Recall@k и  Money Recall@k\n",
        "\n",
        "*Recall* - доля рекомендованных товаров среди релевантных = Какой % купленных товаров был среди рекомендованных\n",
        "\n",
        "$$\\Large Recall@K(i) = \\frac {\\sum_{j=1}^{K}\\mathbb{1}_{r_{ij}}}{|Rel_i|}$$\n",
        "\n",
        "$\\Large |Rel_i|$ -- количество релевантных товаров для пользователя $i$\n",
        "\n",
        "$$\\Large MoneyRecall@K(i) = \\frac {\\sum_{j=1}^{K}\\mathbb{1}_{r_{ij}}\\cdot Price(j)}{\\sum_{s\\in Rel_i}Price(s)}$$\n"
      ]
    },
    {
      "cell_type": "code",
      "source": [
        "import numpy as np\n",
        "import pandas as pd"
      ],
      "metadata": {
        "id": "3E12zKSQlBcg"
      },
      "execution_count": 1,
      "outputs": []
    },
    {
      "cell_type": "code",
      "source": [
        "#данные взяла из вебинара\n",
        "recommended_list = [143, 156, 1134, 991, 27, 1543, 3345, 533, 11, 43] #id товаров\n",
        "bought_list = [521, 32, 143, 991]"
      ],
      "metadata": {
        "id": "FO6GqjASpuJ2"
      },
      "execution_count": 4,
      "outputs": []
    },
    {
      "cell_type": "code",
      "source": [
        "def recall_at_k(recommended_list, bought_list, k=5):\n",
        "\n",
        "    bought_list = np.array(bought_list)\n",
        "    recommended_list = np.array(recommended_list)\n",
        "\n",
        "    #TODO: Ваш код здесь\n",
        "    if k < len(recommended_list):\n",
        "        recommended_list = recommended_list[:k]\n",
        "\n",
        "    flags = np.isin(bought_list, recommended_list)\n",
        "    recall_at_k = flags.sum() / len(bought_list)\n",
        "\n",
        "    return recall_at_k\n",
        "\n"
      ],
      "metadata": {
        "id": "w_Vtg4zjlFai"
      },
      "execution_count": 9,
      "outputs": []
    },
    {
      "cell_type": "code",
      "source": [
        "recall_at_k(recommended_list, bought_list)"
      ],
      "metadata": {
        "colab": {
          "base_uri": "https://localhost:8080/"
        },
        "id": "GXs53zoQp00F",
        "outputId": "c69a9f7c-a5ab-4efd-ac20-f49c3bda6018"
      },
      "execution_count": 10,
      "outputs": [
        {
          "output_type": "execute_result",
          "data": {
            "text/plain": [
              "0.5"
            ]
          },
          "metadata": {},
          "execution_count": 10
        }
      ]
    },
    {
      "cell_type": "code",
      "source": [
        "prices_resommended = [400, 60, 40, 40 , 90]\n",
        "#prices_bought не увидела в вебинаре этих данных"
      ],
      "metadata": {
        "id": "7Dx__V6OqVYt"
      },
      "execution_count": 15,
      "outputs": []
    },
    {
      "cell_type": "code",
      "source": [
        "def money_recall_at_k(recommended_list, bought_list, prices_recommended, prices_bought, k=5):\n",
        "    bought_list = np.array(bought_list)\n",
        "    recommended_list = np.array(recommended_list)[:k]\n",
        "    prices_recommended = np.array(prices_recommended)[:k]\n",
        "    prices_bought = np.array(prices_bought)\n",
        "\n",
        "    flags = np.isin(recommended_list, bought_list)\n",
        "\n",
        "    recall = np.dot(flags, prices_recommended).sum() / prices_bought.sum()\n",
        "\n",
        "    return money_recall_at_k"
      ],
      "metadata": {
        "id": "y476Vd9vpK7M"
      },
      "execution_count": 16,
      "outputs": []
    },
    {
      "cell_type": "markdown",
      "metadata": {
        "id": "b42d4d0d-6073-47b6-ad54-586a477405e5"
      },
      "source": [
        "## Задание 2. Реализовать метрику MRR@k\n",
        "\n",
        "Mean Reciprocal Rank\n",
        "\n",
        "- Считаем для первых k рекоммендаций\n",
        "- Найти ранк первого релевантного предсказания $\\Large rank_j$\n",
        "- Посчитать reciprocal rank = $\\Large\\frac{1}{rank_j}$\n",
        "\n",
        "$$\\Large  MMR(i)@k=\\frac {1}{\\min\\limits_{j\\in Rel(i)} rank_j}$$"
      ]
    },
    {
      "cell_type": "code",
      "source": [
        "recommended_list = [143, 156, 1134, 991, 27, 1543, 3345, 533, 11, 43] #id товаров\n",
        "bought_list = [521, 32, 143, 991]"
      ],
      "metadata": {
        "id": "F7bysbDBrfI4"
      },
      "execution_count": 17,
      "outputs": []
    },
    {
      "cell_type": "code",
      "source": [
        "def reciprocal_rank(recommended_list, bought_list):\n",
        "    # your_code\n",
        "    bought_list = np.array(bought_list)\n",
        "    recommend_list = np.array(recommended_list)\n",
        "    relevant_indexes = np.nonzero(np.isin(recommended_list, bought_list))[0]\n",
        "    if len(relevant_indexes) == 0:\n",
        "        return 0\n",
        "    reciprocal_rank = 1 / (relevant_indexes[0] + 1)\n",
        "    return reciprocal_rank\n",
        ""
      ],
      "metadata": {
        "id": "wLMQQonOvgIN"
      },
      "execution_count": 18,
      "outputs": []
    },
    {
      "cell_type": "code",
      "source": [
        "reciprocal_rank(recommended_list, bought_list)"
      ],
      "metadata": {
        "colab": {
          "base_uri": "https://localhost:8080/"
        },
        "id": "mFIt2NgnwUfZ",
        "outputId": "c922e117-82e7-473b-80f9-6853e6162235"
      },
      "execution_count": 21,
      "outputs": [
        {
          "output_type": "execute_result",
          "data": {
            "text/plain": [
              "1.0"
            ]
          },
          "metadata": {},
          "execution_count": 21
        }
      ]
    },
    {
      "cell_type": "code",
      "source": [
        "recommended_list = [143, 156, 1134, 991, 27, 1543, 3345, 533, 11, 43] #id товаров\n",
        "bought_list = [521, 32, 143, 991]"
      ],
      "metadata": {
        "id": "5puw4z3Pxfcs"
      },
      "execution_count": 25,
      "outputs": []
    },
    {
      "cell_type": "code",
      "source": [
        "def mrr_at_k(recommended_list, bought_list, k=5):\n",
        "    bought_list = np.array(bought_list)\n",
        "    recommended_list = np.array(recommended_list)\n",
        "\n",
        "    #TODO: Ваш код здесь\n",
        "    reciprocal_rank_list = []\n",
        "    for rec, bougth in range(len(recommended_list)):\n",
        "        bought_list = np.array(bought_list)\n",
        "        recommend_list = np.array(recommended_list)[:k]\n",
        "        reciprocal_rank_list.append(reciprocal_rank(recommend_list, bought_list, k))\n",
        "    return np.mean(reciprocal_rank_list)"
      ],
      "metadata": {
        "id": "-DU8e4Oerik0"
      },
      "execution_count": 32,
      "outputs": []
    }
  ]
}